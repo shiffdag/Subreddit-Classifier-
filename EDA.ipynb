{
 "cells": [
  {
   "cell_type": "markdown",
   "metadata": {},
   "source": [
    "<font size=\"6\"> III. EDA</font>"
   ]
  },
  {
   "cell_type": "code",
   "execution_count": 27,
   "metadata": {},
   "outputs": [],
   "source": [
    "import pandas as pd\n",
    "import numpy as np\n",
    "from sklearn.feature_extraction.text import CountVectorizer \n",
    "\n",
    "from textblob import TextBlob, Word, Blobber\n",
    "\n"
   ]
  },
  {
   "cell_type": "code",
   "execution_count": 4,
   "metadata": {},
   "outputs": [],
   "source": [
    "df = pd.read_csv(\"./dataframe\", keep_default_na = False, index_col = 0) #read in data frame\n",
    "df.rename(columns={\"0\": \"category\"}, inplace = True) # change column name of binary class"
   ]
  },
  {
   "cell_type": "code",
   "execution_count": 5,
   "metadata": {},
   "outputs": [
    {
     "data": {
      "text/html": [
       "<div>\n",
       "<style scoped>\n",
       "    .dataframe tbody tr th:only-of-type {\n",
       "        vertical-align: middle;\n",
       "    }\n",
       "\n",
       "    .dataframe tbody tr th {\n",
       "        vertical-align: top;\n",
       "    }\n",
       "\n",
       "    .dataframe thead th {\n",
       "        text-align: right;\n",
       "    }\n",
       "</style>\n",
       "<table border=\"1\" class=\"dataframe\">\n",
       "  <thead>\n",
       "    <tr style=\"text-align: right;\">\n",
       "      <th></th>\n",
       "      <th>title</th>\n",
       "      <th>created_utc</th>\n",
       "      <th>selftext</th>\n",
       "      <th>subreddit</th>\n",
       "      <th>author</th>\n",
       "      <th>media_only</th>\n",
       "      <th>permalink</th>\n",
       "      <th>textsum</th>\n",
       "      <th>category</th>\n",
       "    </tr>\n",
       "  </thead>\n",
       "  <tbody>\n",
       "    <tr>\n",
       "      <th>0</th>\n",
       "      <td>Gorgeous NASA X-ray images of universe look li...</td>\n",
       "      <td>1602008143</td>\n",
       "      <td></td>\n",
       "      <td>astrophysics</td>\n",
       "      <td>Sorin61</td>\n",
       "      <td>False</td>\n",
       "      <td>/r/astrophysics/comments/j6aaro/gorgeous_nasa_...</td>\n",
       "      <td>Gorgeous NASA X-ray images of universe look li...</td>\n",
       "      <td>0</td>\n",
       "    </tr>\n",
       "    <tr>\n",
       "      <th>1</th>\n",
       "      <td>Can someone please explain how to calculate th...</td>\n",
       "      <td>1602006466</td>\n",
       "      <td></td>\n",
       "      <td>astrophysics</td>\n",
       "      <td>astrojosue</td>\n",
       "      <td>False</td>\n",
       "      <td>/r/astrophysics/comments/j69qx5/can_someone_pl...</td>\n",
       "      <td>Can someone please explain how to calculate th...</td>\n",
       "      <td>0</td>\n",
       "    </tr>\n",
       "    <tr>\n",
       "      <th>2</th>\n",
       "      <td>Can someone explain formula to calculate the m...</td>\n",
       "      <td>1602000784</td>\n",
       "      <td></td>\n",
       "      <td>astrophysics</td>\n",
       "      <td>astrojosue</td>\n",
       "      <td>False</td>\n",
       "      <td>/r/astrophysics/comments/j67wz2/can_someone_ex...</td>\n",
       "      <td>Can someone explain formula to calculate the m...</td>\n",
       "      <td>0</td>\n",
       "    </tr>\n",
       "    <tr>\n",
       "      <th>3</th>\n",
       "      <td>Can someone elaborate?</td>\n",
       "      <td>1601999794</td>\n",
       "      <td></td>\n",
       "      <td>astrophysics</td>\n",
       "      <td>astrojosue</td>\n",
       "      <td>False</td>\n",
       "      <td>/r/astrophysics/comments/j67lw5/can_someone_el...</td>\n",
       "      <td>Can someone elaborate?</td>\n",
       "      <td>0</td>\n",
       "    </tr>\n",
       "    <tr>\n",
       "      <th>4</th>\n",
       "      <td>Maybe astrophysics is not for me! Just watched...</td>\n",
       "      <td>1601987660</td>\n",
       "      <td></td>\n",
       "      <td>astrophysics</td>\n",
       "      <td>Yugitonii</td>\n",
       "      <td>False</td>\n",
       "      <td>/r/astrophysics/comments/j6485v/maybe_astrophy...</td>\n",
       "      <td>Maybe astrophysics is not for me! Just watched...</td>\n",
       "      <td>0</td>\n",
       "    </tr>\n",
       "    <tr>\n",
       "      <th>...</th>\n",
       "      <td>...</td>\n",
       "      <td>...</td>\n",
       "      <td>...</td>\n",
       "      <td>...</td>\n",
       "      <td>...</td>\n",
       "      <td>...</td>\n",
       "      <td>...</td>\n",
       "      <td>...</td>\n",
       "      <td>...</td>\n",
       "    </tr>\n",
       "    <tr>\n",
       "      <th>995</th>\n",
       "      <td>Copper atoms</td>\n",
       "      <td>1535529373</td>\n",
       "      <td></td>\n",
       "      <td>ParticlePhysics</td>\n",
       "      <td>waitfof</td>\n",
       "      <td>False</td>\n",
       "      <td>/r/ParticlePhysics/comments/9b79pk/copper_atoms/</td>\n",
       "      <td>Copper atoms</td>\n",
       "      <td>1</td>\n",
       "    </tr>\n",
       "    <tr>\n",
       "      <th>996</th>\n",
       "      <td>ATLAS &amp;amp; CMS H→bb̅ observation papers avail...</td>\n",
       "      <td>1535437840</td>\n",
       "      <td>ATLAS: \"Observation of H→bb̅ decays and VH pro...</td>\n",
       "      <td>ParticlePhysics</td>\n",
       "      <td>dukwon</td>\n",
       "      <td>False</td>\n",
       "      <td>/r/ParticlePhysics/comments/9awkpl/atlas_cms_h...</td>\n",
       "      <td>ATLAS &amp;amp; CMS H→bb̅ observation papers avail...</td>\n",
       "      <td>1</td>\n",
       "    </tr>\n",
       "    <tr>\n",
       "      <th>997</th>\n",
       "      <td>As part of the Perimeter Institute’s ‘My Favou...</td>\n",
       "      <td>1535220159</td>\n",
       "      <td></td>\n",
       "      <td>ParticlePhysics</td>\n",
       "      <td>IPPP_Durham</td>\n",
       "      <td>False</td>\n",
       "      <td>/r/ParticlePhysics/comments/9a8rex/as_part_of_...</td>\n",
       "      <td>As part of the Perimeter Institute’s ‘My Favou...</td>\n",
       "      <td>1</td>\n",
       "    </tr>\n",
       "    <tr>\n",
       "      <th>998</th>\n",
       "      <td>Dark Matter Detection with SuperCDMS</td>\n",
       "      <td>1535112573</td>\n",
       "      <td></td>\n",
       "      <td>ParticlePhysics</td>\n",
       "      <td>IPPP_Durham</td>\n",
       "      <td>False</td>\n",
       "      <td>/r/ParticlePhysics/comments/99wuwf/dark_matter...</td>\n",
       "      <td>Dark Matter Detection with SuperCDMS</td>\n",
       "      <td>1</td>\n",
       "    </tr>\n",
       "    <tr>\n",
       "      <th>999</th>\n",
       "      <td>The Standard Model at 50: Recordings of some t...</td>\n",
       "      <td>1535002361</td>\n",
       "      <td></td>\n",
       "      <td>ParticlePhysics</td>\n",
       "      <td>jonbutterworth</td>\n",
       "      <td>False</td>\n",
       "      <td>/r/ParticlePhysics/comments/99kpas/the_standar...</td>\n",
       "      <td>The Standard Model at 50: Recordings of some t...</td>\n",
       "      <td>1</td>\n",
       "    </tr>\n",
       "  </tbody>\n",
       "</table>\n",
       "<p>1000 rows × 9 columns</p>\n",
       "</div>"
      ],
      "text/plain": [
       "                                                 title  created_utc  \\\n",
       "0    Gorgeous NASA X-ray images of universe look li...   1602008143   \n",
       "1    Can someone please explain how to calculate th...   1602006466   \n",
       "2    Can someone explain formula to calculate the m...   1602000784   \n",
       "3                               Can someone elaborate?   1601999794   \n",
       "4    Maybe astrophysics is not for me! Just watched...   1601987660   \n",
       "..                                                 ...          ...   \n",
       "995                                       Copper atoms   1535529373   \n",
       "996  ATLAS &amp; CMS H→bb̅ observation papers avail...   1535437840   \n",
       "997  As part of the Perimeter Institute’s ‘My Favou...   1535220159   \n",
       "998               Dark Matter Detection with SuperCDMS   1535112573   \n",
       "999  The Standard Model at 50: Recordings of some t...   1535002361   \n",
       "\n",
       "                                              selftext        subreddit  \\\n",
       "0                                                          astrophysics   \n",
       "1                                                          astrophysics   \n",
       "2                                                          astrophysics   \n",
       "3                                                          astrophysics   \n",
       "4                                                          astrophysics   \n",
       "..                                                 ...              ...   \n",
       "995                                                     ParticlePhysics   \n",
       "996  ATLAS: \"Observation of H→bb̅ decays and VH pro...  ParticlePhysics   \n",
       "997                                                     ParticlePhysics   \n",
       "998                                                     ParticlePhysics   \n",
       "999                                                     ParticlePhysics   \n",
       "\n",
       "             author  media_only  \\\n",
       "0           Sorin61       False   \n",
       "1        astrojosue       False   \n",
       "2        astrojosue       False   \n",
       "3        astrojosue       False   \n",
       "4         Yugitonii       False   \n",
       "..              ...         ...   \n",
       "995         waitfof       False   \n",
       "996          dukwon       False   \n",
       "997     IPPP_Durham       False   \n",
       "998     IPPP_Durham       False   \n",
       "999  jonbutterworth       False   \n",
       "\n",
       "                                             permalink  \\\n",
       "0    /r/astrophysics/comments/j6aaro/gorgeous_nasa_...   \n",
       "1    /r/astrophysics/comments/j69qx5/can_someone_pl...   \n",
       "2    /r/astrophysics/comments/j67wz2/can_someone_ex...   \n",
       "3    /r/astrophysics/comments/j67lw5/can_someone_el...   \n",
       "4    /r/astrophysics/comments/j6485v/maybe_astrophy...   \n",
       "..                                                 ...   \n",
       "995   /r/ParticlePhysics/comments/9b79pk/copper_atoms/   \n",
       "996  /r/ParticlePhysics/comments/9awkpl/atlas_cms_h...   \n",
       "997  /r/ParticlePhysics/comments/9a8rex/as_part_of_...   \n",
       "998  /r/ParticlePhysics/comments/99wuwf/dark_matter...   \n",
       "999  /r/ParticlePhysics/comments/99kpas/the_standar...   \n",
       "\n",
       "                                               textsum  category  \n",
       "0    Gorgeous NASA X-ray images of universe look li...         0  \n",
       "1    Can someone please explain how to calculate th...         0  \n",
       "2    Can someone explain formula to calculate the m...         0  \n",
       "3                              Can someone elaborate?          0  \n",
       "4    Maybe astrophysics is not for me! Just watched...         0  \n",
       "..                                                 ...       ...  \n",
       "995                                      Copper atoms          1  \n",
       "996  ATLAS &amp; CMS H→bb̅ observation papers avail...         1  \n",
       "997  As part of the Perimeter Institute’s ‘My Favou...         1  \n",
       "998              Dark Matter Detection with SuperCDMS          1  \n",
       "999  The Standard Model at 50: Recordings of some t...         1  \n",
       "\n",
       "[1000 rows x 9 columns]"
      ]
     },
     "execution_count": 5,
     "metadata": {},
     "output_type": "execute_result"
    }
   ],
   "source": [
    "df"
   ]
  },
  {
   "cell_type": "code",
   "execution_count": 17,
   "metadata": {},
   "outputs": [],
   "source": [
    "cvect = CountVectorizer(stop_words =  \"english\")  \n",
    "\n",
    "df1 = df[\"textsum\"]\n",
    "df2 = cvect.fit_transform(df1)\n",
    "\n",
    "df3 = pd.DataFrame(df2.toarray(), columns = cvect.get_feature_names())\n"
   ]
  },
  {
   "cell_type": "code",
   "execution_count": 21,
   "metadata": {},
   "outputs": [
    {
     "data": {
      "text/plain": [
       "particle     285\n",
       "physics      259\n",
       "time         192\n",
       "quantum      175\n",
       "matter       172\n",
       "black        169\n",
       "like         168\n",
       "just         163\n",
       "know         144\n",
       "space        140\n",
       "mass         129\n",
       "universe     129\n",
       "light        128\n",
       "does         125\n",
       "particles    122\n",
       "field        118\n",
       "https        118\n",
       "hole         116\n",
       "wave         111\n",
       "energy        98\n",
       "dtype: int64"
      ]
     },
     "execution_count": 21,
     "metadata": {},
     "output_type": "execute_result"
    }
   ],
   "source": [
    "df3.sum().nlargest(20) #twenty most prevalent words"
   ]
  },
  {
   "cell_type": "code",
   "execution_count": 22,
   "metadata": {},
   "outputs": [
    {
     "ename": "NameError",
     "evalue": "name 'plt' is not defined",
     "output_type": "error",
     "traceback": [
      "\u001b[0;31m---------------------------------------------------------------------------\u001b[0m",
      "\u001b[0;31mNameError\u001b[0m                                 Traceback (most recent call last)",
      "\u001b[0;32m<ipython-input-22-56b56becc984>\u001b[0m in \u001b[0;36m<module>\u001b[0;34m\u001b[0m\n\u001b[0;32m----> 1\u001b[0;31m \u001b[0mdf3\u001b[0m\u001b[0;34m.\u001b[0m\u001b[0msum\u001b[0m\u001b[0;34m(\u001b[0m\u001b[0;34m)\u001b[0m\u001b[0;34m.\u001b[0m\u001b[0mnlargest\u001b[0m\u001b[0;34m(\u001b[0m\u001b[0;36m20\u001b[0m\u001b[0;34m)\u001b[0m\u001b[0;34m.\u001b[0m\u001b[0mplot\u001b[0m\u001b[0;34m(\u001b[0m\u001b[0mkind\u001b[0m\u001b[0;34m=\u001b[0m\u001b[0;34m'barh'\u001b[0m\u001b[0;34m,\u001b[0m \u001b[0mfigsize\u001b[0m\u001b[0;34m=\u001b[0m\u001b[0;34m(\u001b[0m\u001b[0;36m20\u001b[0m\u001b[0;34m,\u001b[0m\u001b[0;36m10\u001b[0m\u001b[0;34m)\u001b[0m\u001b[0;34m)\u001b[0m\u001b[0;34m;\u001b[0m \u001b[0mplt\u001b[0m\u001b[0;34m.\u001b[0m\u001b[0mbar\u001b[0m\u001b[0;34m(\u001b[0m\u001b[0;34m)\u001b[0m\u001b[0;34m\u001b[0m\u001b[0;34m\u001b[0m\u001b[0m\n\u001b[0m",
      "\u001b[0;31mNameError\u001b[0m: name 'plt' is not defined"
     ]
    },
    {
     "data": {
      "image/png": "[encoded data removed]",
      "text/plain": [
       "<Figure size 1440x720 with 1 Axes>"
      ]
     },
     "metadata": {
      "needs_background": "light"
     },
     "output_type": "display_data"
    }
   ],
   "source": [
    "df3.sum().nlargest(20).plot(kind='barh', figsize=(20,10)); plt.bar() "
   ]
  },
  {
   "cell_type": "code",
   "execution_count": 25,
   "metadata": {},
   "outputs": [
    {
     "data": {
      "text/plain": [
       "00000001            1\n",
       "00000029979246      1\n",
       "000vnđ              1\n",
       "02                  1\n",
       "04                  1\n",
       "05                  1\n",
       "08238               1\n",
       "08242               1\n",
       "09242               1\n",
       "1000                1\n",
       "1000000000000000    1\n",
       "1000mph             1\n",
       "10098               1\n",
       "10459               1\n",
       "106                 1\n",
       "120                 1\n",
       "125                 1\n",
       "12566               1\n",
       "133                 1\n",
       "14228               1\n",
       "dtype: int64"
      ]
     },
     "execution_count": 25,
     "metadata": {},
     "output_type": "execute_result"
    }
   ],
   "source": [
    "df3.sum().nsmallest(20)"
   ]
  },
  {
   "cell_type": "code",
   "execution_count": 30,
   "metadata": {},
   "outputs": [],
   "source": [
    "def sentiment_analysis(text):\n",
    "    blob = TextBlob(text)\n",
    "    return blob.polarity\n",
    "    # function that outputs sentiment of text"
   ]
  },
  {
   "cell_type": "code",
   "execution_count": 32,
   "metadata": {},
   "outputs": [],
   "source": [
    "df[\"polarity\"] = df[\"textsum\"].apply(sentiment_analysis)"
   ]
  },
  {
   "cell_type": "code",
   "execution_count": 33,
   "metadata": {},
   "outputs": [
    {
     "data": {
      "text/html": [
       "<div>\n",
       "<style scoped>\n",
       "    .dataframe tbody tr th:only-of-type {\n",
       "        vertical-align: middle;\n",
       "    }\n",
       "\n",
       "    .dataframe tbody tr th {\n",
       "        vertical-align: top;\n",
       "    }\n",
       "\n",
       "    .dataframe thead th {\n",
       "        text-align: right;\n",
       "    }\n",
       "</style>\n",
       "<table border=\"1\" class=\"dataframe\">\n",
       "  <thead>\n",
       "    <tr style=\"text-align: right;\">\n",
       "      <th></th>\n",
       "      <th>title</th>\n",
       "      <th>created_utc</th>\n",
       "      <th>selftext</th>\n",
       "      <th>subreddit</th>\n",
       "      <th>author</th>\n",
       "      <th>media_only</th>\n",
       "      <th>permalink</th>\n",
       "      <th>textsum</th>\n",
       "      <th>category</th>\n",
       "      <th>polarity</th>\n",
       "    </tr>\n",
       "  </thead>\n",
       "  <tbody>\n",
       "    <tr>\n",
       "      <th>0</th>\n",
       "      <td>Gorgeous NASA X-ray images of universe look li...</td>\n",
       "      <td>1602008143</td>\n",
       "      <td></td>\n",
       "      <td>astrophysics</td>\n",
       "      <td>Sorin61</td>\n",
       "      <td>False</td>\n",
       "      <td>/r/astrophysics/comments/j6aaro/gorgeous_nasa_...</td>\n",
       "      <td>Gorgeous NASA X-ray images of universe look li...</td>\n",
       "      <td>0</td>\n",
       "      <td>0.700000</td>\n",
       "    </tr>\n",
       "    <tr>\n",
       "      <th>1</th>\n",
       "      <td>Can someone please explain how to calculate th...</td>\n",
       "      <td>1602006466</td>\n",
       "      <td></td>\n",
       "      <td>astrophysics</td>\n",
       "      <td>astrojosue</td>\n",
       "      <td>False</td>\n",
       "      <td>/r/astrophysics/comments/j69qx5/can_someone_pl...</td>\n",
       "      <td>Can someone please explain how to calculate th...</td>\n",
       "      <td>0</td>\n",
       "      <td>-0.150000</td>\n",
       "    </tr>\n",
       "    <tr>\n",
       "      <th>2</th>\n",
       "      <td>Can someone explain formula to calculate the m...</td>\n",
       "      <td>1602000784</td>\n",
       "      <td></td>\n",
       "      <td>astrophysics</td>\n",
       "      <td>astrojosue</td>\n",
       "      <td>False</td>\n",
       "      <td>/r/astrophysics/comments/j67wz2/can_someone_ex...</td>\n",
       "      <td>Can someone explain formula to calculate the m...</td>\n",
       "      <td>0</td>\n",
       "      <td>0.000000</td>\n",
       "    </tr>\n",
       "    <tr>\n",
       "      <th>3</th>\n",
       "      <td>Can someone elaborate?</td>\n",
       "      <td>1601999794</td>\n",
       "      <td></td>\n",
       "      <td>astrophysics</td>\n",
       "      <td>astrojosue</td>\n",
       "      <td>False</td>\n",
       "      <td>/r/astrophysics/comments/j67lw5/can_someone_el...</td>\n",
       "      <td>Can someone elaborate?</td>\n",
       "      <td>0</td>\n",
       "      <td>0.500000</td>\n",
       "    </tr>\n",
       "    <tr>\n",
       "      <th>4</th>\n",
       "      <td>Maybe astrophysics is not for me! Just watched...</td>\n",
       "      <td>1601987660</td>\n",
       "      <td></td>\n",
       "      <td>astrophysics</td>\n",
       "      <td>Yugitonii</td>\n",
       "      <td>False</td>\n",
       "      <td>/r/astrophysics/comments/j6485v/maybe_astrophy...</td>\n",
       "      <td>Maybe astrophysics is not for me! Just watched...</td>\n",
       "      <td>0</td>\n",
       "      <td>0.142857</td>\n",
       "    </tr>\n",
       "    <tr>\n",
       "      <th>...</th>\n",
       "      <td>...</td>\n",
       "      <td>...</td>\n",
       "      <td>...</td>\n",
       "      <td>...</td>\n",
       "      <td>...</td>\n",
       "      <td>...</td>\n",
       "      <td>...</td>\n",
       "      <td>...</td>\n",
       "      <td>...</td>\n",
       "      <td>...</td>\n",
       "    </tr>\n",
       "    <tr>\n",
       "      <th>995</th>\n",
       "      <td>Copper atoms</td>\n",
       "      <td>1535529373</td>\n",
       "      <td></td>\n",
       "      <td>ParticlePhysics</td>\n",
       "      <td>waitfof</td>\n",
       "      <td>False</td>\n",
       "      <td>/r/ParticlePhysics/comments/9b79pk/copper_atoms/</td>\n",
       "      <td>Copper atoms</td>\n",
       "      <td>1</td>\n",
       "      <td>0.000000</td>\n",
       "    </tr>\n",
       "    <tr>\n",
       "      <th>996</th>\n",
       "      <td>ATLAS &amp;amp; CMS H→bb̅ observation papers avail...</td>\n",
       "      <td>1535437840</td>\n",
       "      <td>ATLAS: \"Observation of H→bb̅ decays and VH pro...</td>\n",
       "      <td>ParticlePhysics</td>\n",
       "      <td>dukwon</td>\n",
       "      <td>False</td>\n",
       "      <td>/r/ParticlePhysics/comments/9awkpl/atlas_cms_h...</td>\n",
       "      <td>ATLAS &amp;amp; CMS H→bb̅ observation papers avail...</td>\n",
       "      <td>1</td>\n",
       "      <td>0.400000</td>\n",
       "    </tr>\n",
       "    <tr>\n",
       "      <th>997</th>\n",
       "      <td>As part of the Perimeter Institute’s ‘My Favou...</td>\n",
       "      <td>1535220159</td>\n",
       "      <td></td>\n",
       "      <td>ParticlePhysics</td>\n",
       "      <td>IPPP_Durham</td>\n",
       "      <td>False</td>\n",
       "      <td>/r/ParticlePhysics/comments/9a8rex/as_part_of_...</td>\n",
       "      <td>As part of the Perimeter Institute’s ‘My Favou...</td>\n",
       "      <td>1</td>\n",
       "      <td>0.000000</td>\n",
       "    </tr>\n",
       "    <tr>\n",
       "      <th>998</th>\n",
       "      <td>Dark Matter Detection with SuperCDMS</td>\n",
       "      <td>1535112573</td>\n",
       "      <td></td>\n",
       "      <td>ParticlePhysics</td>\n",
       "      <td>IPPP_Durham</td>\n",
       "      <td>False</td>\n",
       "      <td>/r/ParticlePhysics/comments/99wuwf/dark_matter...</td>\n",
       "      <td>Dark Matter Detection with SuperCDMS</td>\n",
       "      <td>1</td>\n",
       "      <td>-0.150000</td>\n",
       "    </tr>\n",
       "    <tr>\n",
       "      <th>999</th>\n",
       "      <td>The Standard Model at 50: Recordings of some t...</td>\n",
       "      <td>1535002361</td>\n",
       "      <td></td>\n",
       "      <td>ParticlePhysics</td>\n",
       "      <td>jonbutterworth</td>\n",
       "      <td>False</td>\n",
       "      <td>/r/ParticlePhysics/comments/99kpas/the_standar...</td>\n",
       "      <td>The Standard Model at 50: Recordings of some t...</td>\n",
       "      <td>1</td>\n",
       "      <td>0.250000</td>\n",
       "    </tr>\n",
       "  </tbody>\n",
       "</table>\n",
       "<p>1000 rows × 10 columns</p>\n",
       "</div>"
      ],
      "text/plain": [
       "                                                 title  created_utc  \\\n",
       "0    Gorgeous NASA X-ray images of universe look li...   1602008143   \n",
       "1    Can someone please explain how to calculate th...   1602006466   \n",
       "2    Can someone explain formula to calculate the m...   1602000784   \n",
       "3                               Can someone elaborate?   1601999794   \n",
       "4    Maybe astrophysics is not for me! Just watched...   1601987660   \n",
       "..                                                 ...          ...   \n",
       "995                                       Copper atoms   1535529373   \n",
       "996  ATLAS &amp; CMS H→bb̅ observation papers avail...   1535437840   \n",
       "997  As part of the Perimeter Institute’s ‘My Favou...   1535220159   \n",
       "998               Dark Matter Detection with SuperCDMS   1535112573   \n",
       "999  The Standard Model at 50: Recordings of some t...   1535002361   \n",
       "\n",
       "                                              selftext        subreddit  \\\n",
       "0                                                          astrophysics   \n",
       "1                                                          astrophysics   \n",
       "2                                                          astrophysics   \n",
       "3                                                          astrophysics   \n",
       "4                                                          astrophysics   \n",
       "..                                                 ...              ...   \n",
       "995                                                     ParticlePhysics   \n",
       "996  ATLAS: \"Observation of H→bb̅ decays and VH pro...  ParticlePhysics   \n",
       "997                                                     ParticlePhysics   \n",
       "998                                                     ParticlePhysics   \n",
       "999                                                     ParticlePhysics   \n",
       "\n",
       "             author  media_only  \\\n",
       "0           Sorin61       False   \n",
       "1        astrojosue       False   \n",
       "2        astrojosue       False   \n",
       "3        astrojosue       False   \n",
       "4         Yugitonii       False   \n",
       "..              ...         ...   \n",
       "995         waitfof       False   \n",
       "996          dukwon       False   \n",
       "997     IPPP_Durham       False   \n",
       "998     IPPP_Durham       False   \n",
       "999  jonbutterworth       False   \n",
       "\n",
       "                                             permalink  \\\n",
       "0    /r/astrophysics/comments/j6aaro/gorgeous_nasa_...   \n",
       "1    /r/astrophysics/comments/j69qx5/can_someone_pl...   \n",
       "2    /r/astrophysics/comments/j67wz2/can_someone_ex...   \n",
       "3    /r/astrophysics/comments/j67lw5/can_someone_el...   \n",
       "4    /r/astrophysics/comments/j6485v/maybe_astrophy...   \n",
       "..                                                 ...   \n",
       "995   /r/ParticlePhysics/comments/9b79pk/copper_atoms/   \n",
       "996  /r/ParticlePhysics/comments/9awkpl/atlas_cms_h...   \n",
       "997  /r/ParticlePhysics/comments/9a8rex/as_part_of_...   \n",
       "998  /r/ParticlePhysics/comments/99wuwf/dark_matter...   \n",
       "999  /r/ParticlePhysics/comments/99kpas/the_standar...   \n",
       "\n",
       "                                               textsum  category  polarity  \n",
       "0    Gorgeous NASA X-ray images of universe look li...         0  0.700000  \n",
       "1    Can someone please explain how to calculate th...         0 -0.150000  \n",
       "2    Can someone explain formula to calculate the m...         0  0.000000  \n",
       "3                              Can someone elaborate?          0  0.500000  \n",
       "4    Maybe astrophysics is not for me! Just watched...         0  0.142857  \n",
       "..                                                 ...       ...       ...  \n",
       "995                                      Copper atoms          1  0.000000  \n",
       "996  ATLAS &amp; CMS H→bb̅ observation papers avail...         1  0.400000  \n",
       "997  As part of the Perimeter Institute’s ‘My Favou...         1  0.000000  \n",
       "998              Dark Matter Detection with SuperCDMS          1 -0.150000  \n",
       "999  The Standard Model at 50: Recordings of some t...         1  0.250000  \n",
       "\n",
       "[1000 rows x 10 columns]"
      ]
     },
     "execution_count": 33,
     "metadata": {},
     "output_type": "execute_result"
    }
   ],
   "source": [
    "df"
   ]
  },
  {
   "cell_type": "code",
   "execution_count": 35,
   "metadata": {},
   "outputs": [
    {
     "name": "stdout",
     "output_type": "stream",
     "text": [
      "0.08272990717421404\n"
     ]
    }
   ],
   "source": [
    "print(df[\"polarity\"][0:500].mean()) #mean polarity of astrophysics text"
   ]
  },
  {
   "cell_type": "code",
   "execution_count": 42,
   "metadata": {},
   "outputs": [
    {
     "data": {
      "text/plain": [
       "0.08686597286373601"
      ]
     },
     "execution_count": 42,
     "metadata": {},
     "output_type": "execute_result"
    }
   ],
   "source": [
    "df[\"polarity\"][500:999].mean() #mean of polarity of particle physics text "
   ]
  },
  {
   "cell_type": "code",
   "execution_count": 44,
   "metadata": {},
   "outputs": [
    {
     "data": {
      "text/plain": [
       "0.08272990717421404"
      ]
     },
     "execution_count": 44,
     "metadata": {},
     "output_type": "execute_result"
    },
    {
     "data": {
      "image/png": "[encoded data removed]",
      "text/plain": [
       "<Figure size 432x288 with 1 Axes>"
      ]
     },
     "metadata": {
      "needs_background": "light"
     },
     "output_type": "display_data"
    }
   ],
   "source": [
    "hist = df[\"polarity\"][500:999].hist(bins=20)\n",
    "\n",
    "df[\"polarity\"][0:500].mean()\n",
    "\n",
    "#histogram of polarity scores for astrophysics"
   ]
  },
  {
   "cell_type": "code",
   "execution_count": 47,
   "metadata": {},
   "outputs": [
    {
     "data": {
      "text/plain": [
       "0.08686597286373601"
      ]
     },
     "execution_count": 47,
     "metadata": {},
     "output_type": "execute_result"
    },
    {
     "data": {
      "image/png": "[encoded data removed]",
      "text/plain": [
       "<Figure size 432x288 with 1 Axes>"
      ]
     },
     "metadata": {
      "needs_background": "light"
     },
     "output_type": "display_data"
    }
   ],
   "source": [
    "hist = df[\"polarity\"][500:999].hist(bins=20)\n",
    "df[\"polarity\"][500:999].mean()\n",
    "\n",
    "#histogram of particle physics polarity scores "
   ]
  },
  {
   "cell_type": "markdown",
   "metadata": {},
   "source": [
    "The histograms for both Astrophysics and polarity score are approximately normally distributed. The average for both groups are very low, which makes sense. "
   ]
  }
 ],
 "metadata": {
  "kernelspec": {
   "display_name": "Python 3",
   "language": "python",
   "name": "python3"
  },
  "language_info": {
   "codemirror_mode": {
    "name": "ipython",
    "version": 3
   },
   "file_extension": ".py",
   "mimetype": "text/x-python",
   "name": "python",
   "nbconvert_exporter": "python",
   "pygments_lexer": "ipython3",
   "version": "3.8.3"
  }
 },
 "nbformat": 4,
 "nbformat_minor": 4
}
